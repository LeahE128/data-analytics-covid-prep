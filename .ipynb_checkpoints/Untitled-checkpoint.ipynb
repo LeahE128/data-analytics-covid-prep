{
 "cells": [
  {
   "cell_type": "markdown",
   "id": "irish-stability",
   "metadata": {},
   "source": [
    "# Data Quality Report \n",
    "\n",
    "## Import Relevant Modules"
   ]
  },
  {
   "cell_type": "code",
   "execution_count": 1,
   "id": "powerful-nicholas",
   "metadata": {},
   "outputs": [],
   "source": [
    "#Import the required packages\n",
    "\n",
    "#Import package pandas for data analysis\n",
    "import pandas as pd\n",
    "\n",
    "#Import package numpy for numeric computing\n",
    "import numpy as np\n",
    "\n",
    "#Import package matplotlib for visualisation/plotting\n",
    "import matplotlib.pyplot as plt\n",
    "\n",
    "#Import package seaborn for visualisation\n",
    "import seaborn as sns\n",
    "\n",
    "#For showing plots directly in the notebook run the command below\n",
    "%matplotlib inline"
   ]
  },
  {
   "cell_type": "markdown",
   "id": "prompt-retreat",
   "metadata": {},
   "source": [
    "## 1. Initial Data Investigation"
   ]
  },
  {
   "cell_type": "code",
   "execution_count": null,
   "id": "furnished-relationship",
   "metadata": {},
   "outputs": [],
   "source": [
    "# Reading from a csv file, into a data frame\n",
    "df = pd.read_csv('covid19-cdc-13336431.csv')\n",
    "# Show data frame first 5 rows\n",
    "df.head(4)"
   ]
  }
 ],
 "metadata": {
  "kernelspec": {
   "display_name": "Python 3",
   "language": "python",
   "name": "python3"
  },
  "language_info": {
   "codemirror_mode": {
    "name": "ipython",
    "version": 3
   },
   "file_extension": ".py",
   "mimetype": "text/x-python",
   "name": "python",
   "nbconvert_exporter": "python",
   "pygments_lexer": "ipython3",
   "version": "3.8.8"
  }
 },
 "nbformat": 4,
 "nbformat_minor": 5
}
