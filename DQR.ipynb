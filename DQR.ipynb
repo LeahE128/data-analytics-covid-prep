{
 "cells": [
  {
   "cell_type": "markdown",
   "id": "bridal-jacksonville",
   "metadata": {},
   "source": [
    "# Data Quality Report \n",
    "\n",
    "## Import Relevant Modules"
   ]
  },
  {
   "cell_type": "code",
   "execution_count": null,
   "id": "pacific-reason",
   "metadata": {},
   "outputs": [],
   "source": [
    "#Import the required packages\n",
    "import scipy\n",
    "#Import package pandas for data analysis\n",
    "import pandas as pd\n",
    "\n",
    "#Import package numpy for numeric computing\n",
    "import numpy as np\n",
    "\n",
    "#Import package matplotlib for visualisation/plotting\n",
    "import matplotlib.pyplot as plt\n",
    "\n",
    "#Import package seaborn for visualisation\n",
    "import seaborn as sns\n",
    "\n",
    "#For showing plots directly in the notebook run the command below\n",
    "%matplotlib inline\n",
    "\n",
    "from matplotlib.backends.backend_pdf import PdfPages"
   ]
  },
  {
   "cell_type": "markdown",
   "id": "manufactured-registration",
   "metadata": {},
   "source": [
    "## Part 1. Initial Data Investigation\n",
    "##### In this section, a general overview of the data will be displayed to become familiar with the dataset.\n",
    "\n",
    "\n",
    "Introduction: The novel coronavirus disease (COVID-19) pandemic, caused by severe acute respiratory syndrome coronavirus 2 (SARS-CoV-2), remains a global problem. Effective vaccinations and viable treatments remain the best chance to overcome this disease. However, since the advent of the disease, scientists around the world have rallied to investigate and understand the mechanisms of action that the disease uses to infiltrate its host and cause harm. Much is still unknown about the disease and especially who is most susceptible to contracting the virus. Data analysis of clinical data offers a way to answer this question and determine factors that may indicate susceptibility to the virus. This data quality report aims to highlight quality issues in the dataset provided by the Centers for Disease Control and Prevention and offer solutions to these data quality issues to be able to determine features that have an associative link or correlation with the target feature which is death.  "
   ]
  },
  {
   "cell_type": "code",
   "execution_count": null,
   "id": "synthetic-approach",
   "metadata": {},
   "outputs": [],
   "source": [
    "# Reading from a csv file, into a data frame\n",
    "df = pd.read_csv('covid19-cdc-13336431.csv')\n",
    "# Show data frame first few rows\n",
    "df.head(10)"
   ]
  },
  {
   "cell_type": "code",
   "execution_count": null,
   "id": "mediterranean-dollar",
   "metadata": {},
   "outputs": [],
   "source": [
    "# Show data frame first 5 rows\n",
    "df.head(5)"
   ]
  },
  {
   "cell_type": "code",
   "execution_count": null,
   "id": "valuable-conflict",
   "metadata": {},
   "outputs": [],
   "source": [
    "# Show data frame last 5 rows\n",
    "df.tail(5)"
   ]
  },
  {
   "cell_type": "code",
   "execution_count": null,
   "id": "eligible-cleveland",
   "metadata": {},
   "outputs": [],
   "source": [
    "# Check how many rows and columns this dataframe has\n",
    "df.shape"
   ]
  },
  {
   "cell_type": "code",
   "execution_count": null,
   "id": "sunrise-browse",
   "metadata": {},
   "outputs": [],
   "source": [
    "#How many rows/instances?\n",
    "df.shape[0]"
   ]
  },
  {
   "cell_type": "code",
   "execution_count": null,
   "id": "dress-emphasis",
   "metadata": {},
   "outputs": [],
   "source": [
    "#How many columns/features?\n",
    "df.shape[1]"
   ]
  },
  {
   "cell_type": "code",
   "execution_count": null,
   "id": "structured-comedy",
   "metadata": {},
   "outputs": [],
   "source": [
    "\n",
    "df.info"
   ]
  },
  {
   "cell_type": "code",
   "execution_count": null,
   "id": "lined-demand",
   "metadata": {},
   "outputs": [],
   "source": [
    "# Show the data types in each column.\n",
    "df.dtypes"
   ]
  },
  {
   "cell_type": "markdown",
   "id": "medieval-laundry",
   "metadata": {},
   "source": [
    "## Part 1: Data Cleaning and Preparation\n",
    "#### This section will ensure data is prepared and cleaned by converting features to appropriate data types and looking for duplicate rows and columns and dropping any columns that are irrelevant or unnecessary"
   ]
  },
  {
   "cell_type": "code",
   "execution_count": null,
   "id": "great-webmaster",
   "metadata": {},
   "outputs": [],
   "source": [
    "#Convert date time features to appropriate date time data types\n",
    "df['cdc_case_earliest_dt'] = df['cdc_case_earliest_dt'].astype('datetime64[ns]')\n",
    "df['cdc_report_dt'] = df['cdc_report_dt'].astype('datetime64[ns]')\n",
    "df['pos_spec_dt'] = df['pos_spec_dt'].astype('datetime64[ns]')\n",
    "df['onset_dt'] = df['onset_dt'].astype('datetime64[ns]')\n",
    "df.dtypes"
   ]
  },
  {
   "cell_type": "code",
   "execution_count": null,
   "id": "russian-plenty",
   "metadata": {},
   "outputs": [],
   "source": [
    "#Select all columns of type 'object'\n",
    "object_columns = df.select_dtypes(['object']).columns\n",
    "object_columns"
   ]
  },
  {
   "cell_type": "code",
   "execution_count": null,
   "id": "boxed-legend",
   "metadata": {},
   "outputs": [],
   "source": [
    "#Convert selected columns to type 'category'\n",
    "for column in object_columns:\n",
    "    df[column] = df[column].astype('category')\n",
    "df.dtypes \n",
    "\n",
    "\n",
    "df.dtypes"
   ]
  },
  {
   "cell_type": "code",
   "execution_count": null,
   "id": "stable-scheme",
   "metadata": {},
   "outputs": [],
   "source": [
    "df.duplicated(keep=False)\n",
    "\n"
   ]
  },
  {
   "cell_type": "code",
   "execution_count": null,
   "id": "raised-evidence",
   "metadata": {},
   "outputs": [],
   "source": [
    "#count duplications\n",
    "print(df.duplicated().sum())\n"
   ]
  },
  {
   "cell_type": "code",
   "execution_count": null,
   "id": "conservative-anthony",
   "metadata": {},
   "outputs": [],
   "source": [
    "#list the duplications\n",
    "print(df.duplicated())\n"
   ]
  },
  {
   "cell_type": "code",
   "execution_count": null,
   "id": "supposed-holly",
   "metadata": {},
   "outputs": [],
   "source": [
    "duplicate_df = df[df.duplicated(keep=False)]\n"
   ]
  },
  {
   "cell_type": "code",
   "execution_count": null,
   "id": "dangerous-header",
   "metadata": {},
   "outputs": [],
   "source": [
    "#print all details of the duplications\n",
    "print(duplicate_df)"
   ]
  },
  {
   "cell_type": "code",
   "execution_count": null,
   "id": "vertical-solid",
   "metadata": {},
   "outputs": [],
   "source": [
    "#check duplications by putting duplications in a csv.\n",
    "duplicate_df.to_csv(\"duplicate_data.csv\")"
   ]
  },
  {
   "cell_type": "code",
   "execution_count": null,
   "id": "corrected-invite",
   "metadata": {},
   "outputs": [],
   "source": [
    "#dataframe with no duplications\n",
    "noDuplicates_df = df.drop_duplicates(subset=None, keep='first', inplace=False)"
   ]
  },
  {
   "cell_type": "code",
   "execution_count": null,
   "id": "liberal-telescope",
   "metadata": {},
   "outputs": [],
   "source": [
    "#check number of columns and rows\n",
    "print(noDuplicates_df.shape)"
   ]
  },
  {
   "cell_type": "code",
   "execution_count": null,
   "id": "weekly-finance",
   "metadata": {},
   "outputs": [],
   "source": [
    "#check for constant columns\n",
    "noDuplicates_df.columns[noDuplicates_df.nunique() <= 1]"
   ]
  },
  {
   "cell_type": "code",
   "execution_count": null,
   "id": "occasional-internship",
   "metadata": {},
   "outputs": [],
   "source": [
    "#drop cdc_report_dt column because it is depreciated\n",
    "cleaned_df = noDuplicates_df.drop(columns = \"cdc_report_dt\", axis = 1)"
   ]
  },
  {
   "cell_type": "code",
   "execution_count": null,
   "id": "earned-juice",
   "metadata": {},
   "outputs": [],
   "source": [
    "#add cleaned_df to csv\n",
    "cleaned_df.to_csv(\"covid19-cdc-13336431-cleaned_data_1.csv\",index = False)"
   ]
  },
  {
   "cell_type": "markdown",
   "id": "healthy-summary",
   "metadata": {},
   "source": [
    "# Part 1: Continuous and Categorical Feature Statistics\n",
    "\n",
    "This section will look at the descriptive features of the dataset and discuss the statistical observations."
   ]
  },
  {
   "cell_type": "code",
   "execution_count": null,
   "id": "found-insertion",
   "metadata": {},
   "outputs": [],
   "source": [
    "# Reading from a csv file, into a data frame\n",
    "cleaned_df = pd.read_csv('covid19-cdc-13336431-cleaned_data_1.csv')\n",
    "# Show data frame first few rows\n",
    "cleaned_df.head(10)"
   ]
  },
  {
   "cell_type": "markdown",
   "id": "sunset-artist",
   "metadata": {},
   "source": [
    "##  Continuous Features"
   ]
  },
  {
   "cell_type": "code",
   "execution_count": null,
   "id": "compound-brazil",
   "metadata": {},
   "outputs": [],
   "source": [
    "#check dataframe dtypes\n",
    "cleaned_df.dtypes"
   ]
  },
  {
   "cell_type": "code",
   "execution_count": null,
   "id": "acting-illness",
   "metadata": {},
   "outputs": [],
   "source": [
    "#Convert date time features to appropriate date time data types\n",
    "cleaned_df['cdc_case_earliest_dt'] = cleaned_df['cdc_case_earliest_dt'].astype('datetime64[ns]')\n",
    "cleaned_df['pos_spec_dt'] = cleaned_df['pos_spec_dt'].astype('datetime64[ns]')\n",
    "cleaned_df['onset_dt'] = cleaned_df['onset_dt'].astype('datetime64[ns]')\n",
    "cleaned_df.dtypes"
   ]
  },
  {
   "cell_type": "code",
   "execution_count": null,
   "id": "normal-decade",
   "metadata": {},
   "outputs": [],
   "source": [
    "#Select all columns of type 'object'\n",
    "object_columns = cleaned_df.select_dtypes(['object']).columns\n",
    "object_columns"
   ]
  },
  {
   "cell_type": "code",
   "execution_count": null,
   "id": "constitutional-survey",
   "metadata": {},
   "outputs": [],
   "source": [
    "#Convert selected columns to type 'category'\n",
    "for column in object_columns:\n",
    "    cleaned_df[column] = cleaned_df[column].astype('category')\n",
    "cleaned_df.dtypes  "
   ]
  },
  {
   "cell_type": "code",
   "execution_count": null,
   "id": "social-jaguar",
   "metadata": {},
   "outputs": [],
   "source": [
    "#Look at the continous features only\n",
    "continous_columns = cleaned_df.select_dtypes(['datetime64[ns]']).columns\n",
    "cleaned_df[continous_columns]"
   ]
  },
  {
   "cell_type": "code",
   "execution_count": null,
   "id": "changing-company",
   "metadata": {},
   "outputs": [],
   "source": [
    "# Descriptive stats for continous features only.\n",
    "cleaned_df[continous_columns].std()"
   ]
  },
  {
   "cell_type": "code",
   "execution_count": null,
   "id": "perfect-negative",
   "metadata": {},
   "outputs": [],
   "source": [
    "cleaned_df[continous_columns].max()"
   ]
  },
  {
   "cell_type": "code",
   "execution_count": null,
   "id": "numerous-cherry",
   "metadata": {},
   "outputs": [],
   "source": [
    "cleaned_df[continous_columns].min()"
   ]
  },
  {
   "cell_type": "code",
   "execution_count": null,
   "id": "chinese-fifty",
   "metadata": {},
   "outputs": [],
   "source": [
    "cleaned_df[continous_columns].describe(datetime_is_numeric=True).T"
   ]
  },
  {
   "cell_type": "code",
   "execution_count": null,
   "id": "powered-variety",
   "metadata": {},
   "outputs": [],
   "source": [
    "#show rows and columns of dataframe\n",
    "cleaned_df.describe(datetime_is_numeric=True)\n",
    "cleaned_df.shape\n"
   ]
  },
  {
   "cell_type": "code",
   "execution_count": null,
   "id": "treated-hampshire",
   "metadata": {},
   "outputs": [],
   "source": [
    "# Prepare %missing column\n",
    "numeric_columns_missing  = 100 * (cleaned_df[continous_columns].isnull().sum()/df.shape[0])\n",
    "# store the values in a dataframe\n",
    "df_numeric_missing = pd.DataFrame(numeric_columns_missing, columns=['%missing'])\n",
    "df_numeric_missing"
   ]
  },
  {
   "cell_type": "code",
   "execution_count": null,
   "id": "official-alarm",
   "metadata": {},
   "outputs": [],
   "source": [
    "# Add cardinality column\n",
    "# get the number of unique values per feature\n",
    "numeric_columns_card = cleaned_df[continous_columns].nunique()\n",
    "# store the values in a dataframe\n",
    "df_numeric_card = pd.DataFrame(numeric_columns_card, columns=['card'])\n",
    "df_numeric_card"
   ]
  },
  {
   "cell_type": "code",
   "execution_count": null,
   "id": "legislative-vienna",
   "metadata": {},
   "outputs": [],
   "source": [
    "# Add missing values column\n",
    "df_table_numeric = cleaned_df[continous_columns].describe(datetime_is_numeric=True).T\n",
    "\n",
    "# Put the columns together to prepare the final table for numeric_columns\n",
    "df_numeric_columns_data_quality_report_table = pd.concat([df_table_numeric, df_numeric_missing, df_numeric_card], axis=1)\n",
    "df_numeric_columns_data_quality_report_table"
   ]
  },
  {
   "cell_type": "code",
   "execution_count": null,
   "id": "aboriginal-sixth",
   "metadata": {},
   "outputs": [],
   "source": [
    "#put table into csv file\n",
    "df_category_columns_data_quality_report_table.to_csv(\"cdc_13336431_continuous_Features-Table.csv\", \n",
    "                                         index_label='Feature')"
   ]
  },
  {
   "cell_type": "markdown",
   "id": "entertaining-freight",
   "metadata": {},
   "source": [
    "## Categorical Features"
   ]
  },
  {
   "cell_type": "code",
   "execution_count": null,
   "id": "demanding-external",
   "metadata": {},
   "outputs": [],
   "source": [
    "#Look at the continous features only\n",
    "categorical_columns = cleaned_df.select_dtypes(['category']).columns\n",
    "cleaned_df.dtypes"
   ]
  },
  {
   "cell_type": "code",
   "execution_count": null,
   "id": "unknown-nylon",
   "metadata": {},
   "outputs": [],
   "source": [
    "#chnage data type\n",
    "cleaned_df['sex'] = cleaned_df['sex'].astype('category')"
   ]
  },
  {
   "cell_type": "code",
   "execution_count": null,
   "id": "fifteen-scope",
   "metadata": {},
   "outputs": [],
   "source": [
    "cleaned_df['sex'].dtype"
   ]
  },
  {
   "cell_type": "code",
   "execution_count": null,
   "id": "architectural-sense",
   "metadata": {},
   "outputs": [],
   "source": [
    "cleaned_df[categorical_columns].mode()"
   ]
  },
  {
   "cell_type": "code",
   "execution_count": null,
   "id": "several-brown",
   "metadata": {},
   "outputs": [],
   "source": [
    "cleaned_df[categorical_columns].value_counts()"
   ]
  },
  {
   "cell_type": "code",
   "execution_count": null,
   "id": "typical-cathedral",
   "metadata": {},
   "outputs": [],
   "source": [
    "# Prepare %missing column\n",
    "category_columns_perc_missing  = 100 * ((cleaned_df[categorical_columns]==\"Missing\").sum()/cleaned_df.shape[0])\n",
    "#category_columns_perc_missing\n",
    "\n",
    "# Store the values in a dataframe\n",
    "df_category_perc_missing = pd.DataFrame(category_columns_perc_missing, columns=['%missing'])\n",
    "df_category_perc_missing"
   ]
  },
  {
   "cell_type": "code",
   "execution_count": null,
   "id": "modified-density",
   "metadata": {},
   "outputs": [],
   "source": [
    "# Prepare %unknown column\n",
    "category_columns_perc_unknown  = 100 * ((cleaned_df[categorical_columns]==\"Unknown\").sum()/cleaned_df.shape[0])\n",
    "#category_columns_perc_missing\n",
    "\n",
    "# Store the values in a dataframe\n",
    "df_category_perc_unknown = pd.DataFrame(category_columns_perc_unknown, columns=['%unknown'])\n",
    "df_category_perc_unknown"
   ]
  },
  {
   "cell_type": "code",
   "execution_count": null,
   "id": "compact-symbol",
   "metadata": {},
   "outputs": [],
   "source": [
    "# Prepare the cardinality column\n",
    "category_columns_card = cleaned_df[categorical_columns].nunique()\n",
    "# store the values in a dataframe\n",
    "df_category_card = pd.DataFrame(category_columns_card, columns=['card'])\n",
    "df_category_card"
   ]
  },
  {
   "cell_type": "code",
   "execution_count": null,
   "id": "raising-indonesia",
   "metadata": {},
   "outputs": [],
   "source": [
    " #add missing values column\n",
    "df_table_categ = cleaned_df[categorical_columns].describe().T\n",
    "df_table_categ"
   ]
  },
  {
   "cell_type": "code",
   "execution_count": null,
   "id": "dimensional-short",
   "metadata": {},
   "outputs": [],
   "source": [
    "# Put the columns together to prepare the final table for numeric_columns\n",
    "df_category_columns_data_quality_report_table = pd.concat([df_table_categ, df_category_perc_unknown, df_category_perc_missing, df_category_card], axis=1)\n",
    "df_category_columns_data_quality_report_table"
   ]
  },
  {
   "cell_type": "code",
   "execution_count": null,
   "id": "expensive-notification",
   "metadata": {},
   "outputs": [],
   "source": [
    "df_category_columns_data_quality_report_table.to_csv(\"cdc_13336431_categorical_Features-Table.csv\", \n",
    "                                         index_label='Feature')"
   ]
  },
  {
   "cell_type": "markdown",
   "id": "analyzed-offer",
   "metadata": {},
   "source": [
    "# Part 1: Testing Logical Integrity of Data"
   ]
  },
  {
   "cell_type": "markdown",
   "id": "accessible-communist",
   "metadata": {},
   "source": [
    "### A number of tests will be carried out to check the validity of the data"
   ]
  },
  {
   "cell_type": "markdown",
   "id": "dangerous-settle",
   "metadata": {},
   "source": [
    "* Test 1: cdc_case_earliest_dt - Check if cardinality of cdc_case_earliest_dt continuous feature is <= number of days between first and last date of recording.\n",
    "\n"
   ]
  },
  {
   "cell_type": "code",
   "execution_count": null,
   "id": "alpine-intake",
   "metadata": {},
   "outputs": [],
   "source": [
    "#find number of days from first date to last date in all continuous features\n",
    "cleaned_df[continous_columns].max()-cleaned_df[continous_columns].min()"
   ]
  },
  {
   "cell_type": "code",
   "execution_count": null,
   "id": "quarterly-thanks",
   "metadata": {},
   "outputs": [],
   "source": [
    "days = 322\n",
    "test1 = cleaned_df['cdc_case_earliest_dt'].nunique() <= days\n",
    "print(\"Test 1 has passed if True and failed if False: \", test1)"
   ]
  },
  {
   "cell_type": "markdown",
   "id": "conventional-sunrise",
   "metadata": {},
   "source": [
    "* Test 2: pos_spec_dt - Check if cardinality of pos_spec_dt continuous feature is <= number of days between first and last date of recording."
   ]
  },
  {
   "cell_type": "code",
   "execution_count": null,
   "id": "unusual-offset",
   "metadata": {},
   "outputs": [],
   "source": [
    "days = 315\n",
    "test2 = cleaned_df['pos_spec_dt'].nunique() <= days\n",
    "print(\"Test 3 has passed if True and failed if False: \", test2)"
   ]
  },
  {
   "cell_type": "markdown",
   "id": "mechanical-pleasure",
   "metadata": {},
   "source": [
    "* Test 3: onset_dt - Check if cardinality of onset_dt continuous feature is <= number of days between first and last date of recording."
   ]
  },
  {
   "cell_type": "code",
   "execution_count": null,
   "id": "previous-abortion",
   "metadata": {},
   "outputs": [],
   "source": [
    "days = 333\n",
    "test3 = cleaned_df['onset_dt'].nunique() <= days\n",
    "print(\"Test 3 has passed if True and failed if False: \", test3)"
   ]
  },
  {
   "cell_type": "markdown",
   "id": "meaning-remark",
   "metadata": {},
   "source": [
    "* Test 4: onset_dt - Check if onset_dt continuous feature is >= cdc_case_earliest_dt\n",
    "\n",
    "This is to test whether any dates precede the cdc_case_earliest_dt date which should not be possible"
   ]
  },
  {
   "cell_type": "code",
   "execution_count": null,
   "id": "meaning-colonial",
   "metadata": {},
   "outputs": [],
   "source": [
    "not_null = cleaned_df[cleaned_df[\"onset_dt\"].notna()]\n",
    "test4 = not_null['onset_dt'] >= not_null['cdc_case_earliest_dt']\n",
    "\n",
    "print(\"Test 4 has passed if True and failed if False: \", test4)"
   ]
  },
  {
   "cell_type": "markdown",
   "id": "unlike-november",
   "metadata": {},
   "source": [
    "* Test 5: pos_spec_dt - Check if pos_spec_dt continuous feature is >= cdc_case_earliest_dt"
   ]
  },
  {
   "cell_type": "code",
   "execution_count": null,
   "id": "convinced-transition",
   "metadata": {},
   "outputs": [],
   "source": [
    "not_null = cleaned_df[cleaned_df[\"pos_spec_dt\"].notna()]\n",
    "test5 = not_null['pos_spec_dt'] >= not_null['cdc_case_earliest_dt']\n",
    "\n",
    "print(\"Test 5 has passed if True and failed if False: \", test5)"
   ]
  },
  {
   "cell_type": "markdown",
   "id": "alternate-jones",
   "metadata": {},
   "source": [
    "# Part 1: Data Visualisation\n",
    "\n",
    "This section will include all histograms, box plots and bar charts.\n"
   ]
  },
  {
   "cell_type": "markdown",
   "id": "liquid-assist",
   "metadata": {},
   "source": [
    "## Continuous Features\n",
    "\n",
    "Histogram Findings: The histograms of onset_dt and cdc_earliest_case_dt are very similar which is due to the fact that in the dataset many rows have the same data. In some cases onset_dt is a few days after cdc_earliest_case_dt and may be useful to know this information for incubation time of disease data. \n",
    "\n",
    "As shown in all three histograms there was a peak where cases increased and positive samples were collected, this period was in the range of 2020-11 to 2021-02. This may be due to family gatherings for christmas and generally being indoors more often than outdoors."
   ]
  },
  {
   "cell_type": "code",
   "execution_count": null,
   "id": "official-heather",
   "metadata": {},
   "outputs": [],
   "source": [
    "#histograms of all continuous features\n",
    "continous_features_hist = cleaned_df[continous_columns].hist(bins=44, grid=True, figsize=(25,25), color='#86bf91', zorder=4, rwidth = 0.9)\n",
    "\n",
    "plt.savefig('cdc_13336431-NumericFeatures-histograms_all_1-3.pdf')"
   ]
  },
  {
   "cell_type": "markdown",
   "id": "marine-eagle",
   "metadata": {},
   "source": [
    " ## Boxplot Findings: No significant outliers were found in any of the boxplots and the boxplots don't seem to give too much valuable information"
   ]
  },
  {
   "cell_type": "code",
   "execution_count": null,
   "id": "spiritual-protection",
   "metadata": {},
   "outputs": [],
   "source": [
    "# Plot a boxplot for continuous feature Income\n",
    "%matplotlib inline\n",
    "plt.figure(figsize=(20,10))\n",
    "cleaned_df['onset_dt'] = cleaned_df['onset_dt'].apply(lambda x: x.value)\n",
    "cleaned_df['onset_dt'].plot(kind='box')"
   ]
  },
  {
   "cell_type": "code",
   "execution_count": null,
   "id": "permanent-edward",
   "metadata": {},
   "outputs": [],
   "source": [
    "# Plot a boxplot for continuous feature Income\n",
    "%matplotlib inline\n",
    "plt.figure(figsize=(20,10))\n",
    "cleaned_df['cdc_case_earliest_dt'] = cleaned_df['cdc_case_earliest_dt'].apply(lambda x: x.value)\n",
    "cleaned_df['cdc_case_earliest_dt'].plot(kind='box')"
   ]
  },
  {
   "cell_type": "code",
   "execution_count": null,
   "id": "processed-region",
   "metadata": {},
   "outputs": [],
   "source": [
    "# Plot a boxplot for continuous feature Income\n",
    "%matplotlib inline\n",
    "plt.figure(figsize=(20,10))\n",
    "cleaned_df['pos_spec_dt'] = cleaned_df['pos_spec_dt'].apply(lambda x: x.value)\n",
    "cleaned_df['pos_spec_dt'].plot(kind='box')"
   ]
  },
  {
   "cell_type": "code",
   "execution_count": null,
   "id": "placed-governor",
   "metadata": {},
   "outputs": [],
   "source": [
    "#change all data types back to datetime\n",
    "cleaned_df['pos_spec_dt'] = pd.to_datetime(cleaned_df['pos_spec_dt'])\n",
    "cleaned_df['cdc_case_earliest_dt'] = pd.to_datetime(cleaned_df['cdc_case_earliest_dt'])\n",
    "cleaned_df['onset_dt'] = pd.to_datetime(cleaned_df['onset_dt'])"
   ]
  },
  {
   "cell_type": "code",
   "execution_count": null,
   "id": "hollywood-gibraltar",
   "metadata": {},
   "outputs": [],
   "source": [
    "cleaned_df['current_status'].value_counts()"
   ]
  },
  {
   "cell_type": "markdown",
   "id": "environmental-connection",
   "metadata": {},
   "source": [
    "# Categorical Features\n",
    "\n",
    "## Bar chart findings: \n",
    "* Current_status - Majority of cases were laboratory confirmed cases(8880 - 93%).\n",
    "* Sex - More female cases (4995 - 52%) than male (4469 - 48%) but not much difference between the two.\n",
    "* Age_group - Most cases in the 20 - 29 year olds (1783 - 19%), least number of cases in 0 - 9 year olds (425 - 4%) and low number of cases in 80+ (502 - 5%).\n",
    "* race_ethnicity_combined - Most cases in the unknown(3690 - 39%) and white, non hispanic race_ethnicity combination (3230 - 39%), with least cases in native hawaiian/other pacific islander, non-hispanic race_ethnicity group (23 - 0.2%).\n",
    "* hosp_yn - Most cases were non hospitalised (5102 - 54%), with low numbers of hospitalised cases (693 - 7%).\n",
    "* icu_yn - Missing data was the highest amount of values (7184 - 8%) and lowest numbers were yes (83 - 0.9%).\n",
    "* death_yn - Significantly more deaths (9194 - 96%) than non-deaths (341 - 4%).\n",
    "* medcond_yn - Significant number of missing data (7040 - 74%) than unknown data (777 - 8%), yes data (793 - 8%) and no data (925 - 10%)."
   ]
  },
  {
   "cell_type": "code",
   "execution_count": null,
   "id": "shared-projector",
   "metadata": {},
   "outputs": [],
   "source": [
    "#all value counts of each category in the following cells\n",
    "cleaned_df['current_status'].value_counts()"
   ]
  },
  {
   "cell_type": "code",
   "execution_count": null,
   "id": "included-sullivan",
   "metadata": {},
   "outputs": [],
   "source": [
    "cleaned_df['sex'].value_counts()"
   ]
  },
  {
   "cell_type": "code",
   "execution_count": null,
   "id": "irish-blade",
   "metadata": {},
   "outputs": [],
   "source": [
    "cleaned_df['death_yn'].value_counts()"
   ]
  },
  {
   "cell_type": "code",
   "execution_count": null,
   "id": "formal-short",
   "metadata": {},
   "outputs": [],
   "source": [
    "cleaned_df['medcond_yn'].value_counts()"
   ]
  },
  {
   "cell_type": "code",
   "execution_count": null,
   "id": "massive-phone",
   "metadata": {},
   "outputs": [],
   "source": [
    "cleaned_df['icu_yn'].value_counts()"
   ]
  },
  {
   "cell_type": "code",
   "execution_count": null,
   "id": "wound-pressure",
   "metadata": {},
   "outputs": [],
   "source": [
    "cleaned_df['hosp_yn'].value_counts()"
   ]
  },
  {
   "cell_type": "code",
   "execution_count": null,
   "id": "attended-easter",
   "metadata": {},
   "outputs": [],
   "source": [
    "cleaned_df['race_ethnicity_combined'].value_counts()"
   ]
  },
  {
   "cell_type": "code",
   "execution_count": null,
   "id": "concerned-times",
   "metadata": {},
   "outputs": [],
   "source": [
    "cleaned_df['age_group'].value_counts()"
   ]
  },
  {
   "cell_type": "code",
   "execution_count": null,
   "id": "incident-alarm",
   "metadata": {},
   "outputs": [],
   "source": [
    "# Plot bar charts for all categorical features and save them in a single PDF file\n",
    "pp = PdfPages('cdc_13336431_barcharts_10-1.pdf')\n",
    "\n",
    "# We can set the parameters for .value_counts() to not drop the na. This allows us to see missing data in our \n",
    "# categorical features.\n",
    "for column in categorical_columns:\n",
    "    f = cleaned_df[column].value_counts(dropna=False).plot(kind='bar', title=column, figsize=(5,5))\n",
    "    pp.savefig(f.get_figure())\n",
    "    plt.show()\n",
    "\n",
    "pp.close()"
   ]
  },
  {
   "cell_type": "markdown",
   "id": "educational-identification",
   "metadata": {},
   "source": [
    "# Part 2: Summary of data quality plan:\n",
    "\n",
    "Detailed justifications in Data_Quality_Plan.pdf\n",
    "\n",
    "| Variable Names                     | Data Quality Issue                                 | Handling Strategy                                                                  |\n",
    "|------------------------------------|----------------------------------------------------|------------------------------------------------------------------------------------|\n",
    "| cdc_report_dt                      | Depreciated by CDC                                 | Dropped column in Part 1                                                           |\n",
    "| pos_spec_dt                        | 67.88% missing values                              | Drop column                                                                        |\n",
    "| cdc_case_earliest_dt               | NA                                                 | Do nothing                                                                         |\n",
    "| onset_dt                           | 44.97% missing values                              | Do nothing                                                                         |\n",
    "| sex                                | 0.062% missing values                              | Replace missing values with mode                                                   |\n",
    "| sex                                | 0.682% unknown values                              | Do nothing                                                                         |\n",
    "| age_group                          | 0.126% missing values                              | Replace missing values with mode                                                   |\n",
    "| race_ethnicity_combined            | 1.017% missing values                              | Replace missing values with mode                                                   |\n",
    "| race_ethnicity_combined            | 38.70% unknown values                              | Do nothing                                                                         |\n",
    "| hosp_yn                            | 22.64% missing values                              | Combine with unknown values                                                        |\n",
    "| hosp_yn                            | 16.56% unknown values                              | Combine with missing values                                                        |\n",
    "| hosp_yn                            | 2 outliers of 'OTHER'                              | Remove outliers                                                                    |\n",
    "| icu _yn                            | 75.34% missing values                              | Combine with unknown values                                                        |\n",
    "| icu _yn                            | 13.52% unknown values                              | Combine with missing values                                                        |\n",
    "| death_yn                           | NA                                                 | Do nothing                                                                         |\n",
    "| medcond_yn                         | 73.83% missing values                              | Combine with unknown values                                                        |\n",
    "| medcond_yn                         | 8.15% unknown values                               | Combine with missing values                                                        |"
   ]
  },
  {
   "cell_type": "markdown",
   "id": "spread-employment",
   "metadata": {},
   "source": [
    "The following are the handling strategies carried out:"
   ]
  },
  {
   "cell_type": "code",
   "execution_count": null,
   "id": "convinced-outline",
   "metadata": {},
   "outputs": [],
   "source": [
    "#drop pos_spec_dt column \n",
    "cleaned_df = cleaned_df.drop(columns = \"pos_spec_dt\", axis = 1)"
   ]
  },
  {
   "cell_type": "code",
   "execution_count": null,
   "id": "simple-entity",
   "metadata": {},
   "outputs": [],
   "source": [
    "#replace missing values with mode\n",
    "#find mode\n",
    "sex_mode = cleaned_df['sex'].mode()\n",
    "sex_mode"
   ]
  },
  {
   "cell_type": "code",
   "execution_count": null,
   "id": "martial-ballot",
   "metadata": {},
   "outputs": [],
   "source": [
    "#check missing counts\n",
    "sex = cleaned_df['sex'] == 'Missing'\n",
    "print(sex.value_counts())"
   ]
  },
  {
   "cell_type": "code",
   "execution_count": null,
   "id": "featured-dance",
   "metadata": {},
   "outputs": [],
   "source": [
    "#replace missing values with mode\n",
    "cleaned_df[\"sex\"] = cleaned_df[\"sex\"].str.replace('Missing','Female')"
   ]
  },
  {
   "cell_type": "code",
   "execution_count": null,
   "id": "composite-avatar",
   "metadata": {},
   "outputs": [],
   "source": [
    "#change data type to category\n",
    "cleaned_df['sex'] = cleaned_df['sex'].astype('category')"
   ]
  },
  {
   "cell_type": "code",
   "execution_count": null,
   "id": "bibliographic-services",
   "metadata": {},
   "outputs": [],
   "source": [
    "cleaned_df.dtypes"
   ]
  },
  {
   "cell_type": "code",
   "execution_count": null,
   "id": "advisory-barrel",
   "metadata": {},
   "outputs": [],
   "source": [
    "#get mode\n",
    "cleaned_df['age_group'].mode()"
   ]
  },
  {
   "cell_type": "code",
   "execution_count": null,
   "id": "aerial-creature",
   "metadata": {},
   "outputs": [],
   "source": [
    "#change missing values to mode\n",
    "cleaned_df[\"age_group\"] = cleaned_df[\"age_group\"].str.replace('Missing','20 - 29 Years')"
   ]
  },
  {
   "cell_type": "code",
   "execution_count": null,
   "id": "exempt-rochester",
   "metadata": {},
   "outputs": [],
   "source": [
    "#check value counts\n",
    "age_group = cleaned_df[\"age_group\"] =='Missing'\n",
    "age_group.value_counts()"
   ]
  },
  {
   "cell_type": "code",
   "execution_count": null,
   "id": "acquired-blues",
   "metadata": {},
   "outputs": [],
   "source": [
    "cleaned_df.dtypes"
   ]
  },
  {
   "cell_type": "code",
   "execution_count": null,
   "id": "convertible-society",
   "metadata": {},
   "outputs": [],
   "source": [
    "#change to category data type\n",
    "cleaned_df['age_group'] = cleaned_df['age_group'].astype('category')"
   ]
  },
  {
   "cell_type": "code",
   "execution_count": null,
   "id": "suspended-fever",
   "metadata": {},
   "outputs": [],
   "source": [
    "cleaned_df.dtypes"
   ]
  },
  {
   "cell_type": "code",
   "execution_count": null,
   "id": "rising-moisture",
   "metadata": {},
   "outputs": [],
   "source": [
    "#get mode\n",
    "cleaned_df['race_ethnicity_combined'].mode()"
   ]
  },
  {
   "cell_type": "code",
   "execution_count": null,
   "id": "sonic-match",
   "metadata": {},
   "outputs": [],
   "source": [
    "#change missing to unknown\n",
    "cleaned_df[\"race_ethnicity_combined\"] = cleaned_df[\"race_ethnicity_combined\"].str.replace('Missing','Unknown')"
   ]
  },
  {
   "cell_type": "code",
   "execution_count": null,
   "id": "republican-shade",
   "metadata": {},
   "outputs": [],
   "source": [
    "#change to category data type\n",
    "cleaned_df['race_ethnicity_combined'] = cleaned_df['race_ethnicity_combined'].astype('category')"
   ]
  },
  {
   "cell_type": "code",
   "execution_count": null,
   "id": "genetic-student",
   "metadata": {},
   "outputs": [],
   "source": [
    "#check value counts\n",
    "race_group = cleaned_df[\"race_ethnicity_combined\"] =='Missing'\n",
    "race_group.value_counts()"
   ]
  },
  {
   "cell_type": "code",
   "execution_count": null,
   "id": "oriented-satisfaction",
   "metadata": {},
   "outputs": [],
   "source": [
    "cleaned_df.dtypes"
   ]
  },
  {
   "cell_type": "code",
   "execution_count": null,
   "id": "objective-conspiracy",
   "metadata": {},
   "outputs": [],
   "source": [
    "#check value counts\n",
    "hosp_counts = cleaned_df[\"hosp_yn\"] == 'Missing'\n",
    "hosp_counts.value_counts()"
   ]
  },
  {
   "cell_type": "code",
   "execution_count": null,
   "id": "adverse-entity",
   "metadata": {},
   "outputs": [],
   "source": [
    "#change missing to unknown\n",
    "cleaned_df[\"hosp_yn\"] = cleaned_df[\"hosp_yn\"].str.replace('Missing','Unknown')"
   ]
  },
  {
   "cell_type": "code",
   "execution_count": null,
   "id": "center-ferry",
   "metadata": {},
   "outputs": [],
   "source": [
    "cleaned_df.dtypes"
   ]
  },
  {
   "cell_type": "code",
   "execution_count": null,
   "id": "weighted-breach",
   "metadata": {},
   "outputs": [],
   "source": [
    "#change data type\n",
    "cleaned_df['hosp_yn'] = cleaned_df['hosp_yn'].astype('category')"
   ]
  },
  {
   "cell_type": "code",
   "execution_count": null,
   "id": "classified-accountability",
   "metadata": {},
   "outputs": [],
   "source": [
    "#check counts\n",
    "icu_counts = cleaned_df[\"icu_yn\"]=='Unknown'\n",
    "icu_counts.value_counts()"
   ]
  },
  {
   "cell_type": "code",
   "execution_count": null,
   "id": "technical-control",
   "metadata": {},
   "outputs": [],
   "source": [
    "#change missing to unknown\n",
    "cleaned_df[\"icu_yn\"] = cleaned_df[\"icu_yn\"].str.replace('Missing','Unknown')"
   ]
  },
  {
   "cell_type": "code",
   "execution_count": null,
   "id": "attractive-flight",
   "metadata": {},
   "outputs": [],
   "source": [
    "#get counts\n",
    "icu_counts2 = cleaned_df[\"icu_yn\"]=='Unknown'\n",
    "icu_counts2.value_counts()"
   ]
  },
  {
   "cell_type": "code",
   "execution_count": null,
   "id": "desirable-madison",
   "metadata": {},
   "outputs": [],
   "source": [
    "#change data type\n",
    "cleaned_df['icu_yn'] = cleaned_df['icu_yn'].astype('category')"
   ]
  },
  {
   "cell_type": "code",
   "execution_count": null,
   "id": "unnecessary-basement",
   "metadata": {},
   "outputs": [],
   "source": [
    "# change missing to unknown\n",
    "cleaned_df[\"medcond_yn\"] = cleaned_df[\"medcond_yn\"].str.replace('Missing','Unknown')"
   ]
  },
  {
   "cell_type": "code",
   "execution_count": null,
   "id": "communist-anaheim",
   "metadata": {},
   "outputs": [],
   "source": [
    "#change data type\n",
    "cleaned_df['medcond_yn'] = cleaned_df['medcond_yn'].astype('category')"
   ]
  },
  {
   "cell_type": "code",
   "execution_count": null,
   "id": "acceptable-kennedy",
   "metadata": {},
   "outputs": [],
   "source": [
    "#find 'other' outliers\n",
    "other = cleaned_df['hosp_yn'] == 'OTH'\n",
    "other.describe()"
   ]
  },
  {
   "cell_type": "code",
   "execution_count": null,
   "id": "divine-consent",
   "metadata": {},
   "outputs": [],
   "source": [
    "#find index of other outliers\n",
    "cleaned_df.index[cleaned_df['hosp_yn']=='OTH'].tolist()"
   ]
  },
  {
   "cell_type": "code",
   "execution_count": null,
   "id": "applied-supply",
   "metadata": {},
   "outputs": [],
   "source": [
    "#drop outlier\n",
    "cleaned_df.drop(1735)"
   ]
  },
  {
   "cell_type": "code",
   "execution_count": null,
   "id": "equivalent-indonesia",
   "metadata": {},
   "outputs": [],
   "source": [
    "#drop outlier\n",
    "cleaned_df.drop(8091)"
   ]
  },
  {
   "cell_type": "code",
   "execution_count": null,
   "id": "serious-harrison",
   "metadata": {},
   "outputs": [],
   "source": [
    "#check if outliers present still\n",
    "x2 = cleaned_df.index[cleaned_df['hosp_yn']=='OTH'].tolist()"
   ]
  },
  {
   "cell_type": "code",
   "execution_count": null,
   "id": "declared-saudi",
   "metadata": {},
   "outputs": [],
   "source": [
    "#put cleaned dataframe to csv file\n",
    "cleaned_df.to_csv(\"covid19-cdc-13336431-cleaned_data_3.csv\",index = False)"
   ]
  },
  {
   "cell_type": "markdown",
   "id": "secondary-development",
   "metadata": {},
   "source": [
    "## Part 3: Exploring Relationships\n",
    "\n",
    "This section will discuss feature pair correlations and associations"
   ]
  },
  {
   "cell_type": "code",
   "execution_count": null,
   "id": "efficient-pressure",
   "metadata": {},
   "outputs": [],
   "source": [
    "clean_df = pd.read_csv('covid19-cdc-13336431-cleaned_data_3.csv')\n",
    "# Show data frame first few rows\n",
    "clean_df.head(10)"
   ]
  },
  {
   "cell_type": "markdown",
   "id": "adaptive-runner",
   "metadata": {},
   "source": [
    "## Continuous and Continuous Feature Investigation"
   ]
  },
  {
   "cell_type": "code",
   "execution_count": null,
   "id": "occupied-ordering",
   "metadata": {},
   "outputs": [],
   "source": [
    "#get counts of months \n",
    "onset_dt_month_values = cleaned_df['onset_dt'].dt.month.value_counts()\n",
    "onset_dt_month_values"
   ]
  },
  {
   "cell_type": "code",
   "execution_count": null,
   "id": "informational-collection",
   "metadata": {},
   "outputs": [],
   "source": [
    "#get counts of months in onset_dt\n",
    "cdc_case_dt_month_values = cleaned_df['cdc_case_earliest_dt'].dt.month.value_counts()\n",
    "cdc_case_dt_month_values"
   ]
  },
  {
   "cell_type": "code",
   "execution_count": null,
   "id": "cathedral-suffering",
   "metadata": {},
   "outputs": [],
   "source": [
    "#plot a heat map to show the months with the highest cases\n",
    "# import required libraries \n",
    "import pandas as pd \n",
    "  \n",
    "# defining index for the dataframe \n",
    "idx = ['onset_dt', 'cdc_case_earliest_dt'] \n",
    "  \n",
    "# defining columns for the dataframe \n",
    "cols = ['January 2021','Febuary 2021', 'March 2020', 'April 2020', 'May 2020', 'June 2020', 'July 2020', 'August 2020', 'September 2020', 'October 2020','November 2020','December 2020'] \n",
    "  \n",
    "# entering values in the index and columns   \n",
    "# and converting them into a panda dataframe \n",
    "df = pd.DataFrame([[355, 1, 182, 297, 213, 372, 486, 335,335, 569, 917, 976], [1058, 1, 255, 490, 407, 615, 868, 606,552, 865, 1584, 2234]], \n",
    "                   columns = cols, index = idx) \n",
    "sns.heatmap(df, cmap ='cool', linewidths = 0.30)"
   ]
  },
  {
   "cell_type": "markdown",
   "id": "documented-deviation",
   "metadata": {},
   "source": [
    "Findings of heatmap: December 2020 had the most cases ~2000, with November 2020 and January 2021 also having cases ~ 1500. Both onset_dt and cdc_case_earliest_dt share correlations in these results."
   ]
  },
  {
   "cell_type": "code",
   "execution_count": null,
   "id": "silent-whale",
   "metadata": {},
   "outputs": [],
   "source": [
    "#Convert date time features to appropriate date time data types\n",
    "cleaned_df['cdc_case_earliest_dt'] = cleaned_df['cdc_case_earliest_dt'].astype('datetime64[ns]')\n",
    "cleaned_df['onset_dt'] = cleaned_df['onset_dt'].astype('datetime64[ns]')\n",
    "df.dtypes\n",
    "\n",
    "#Select all columns of type 'object'\n",
    "object_columns = cleaned_df.select_dtypes(['object']).columns\n",
    "object_columns\n",
    "#Convert selected columns to type 'category'\n",
    "for column in object_columns:\n",
    "    cleaned_df[column] = cleaned_df[column].astype('category')\n",
    "cleaned_df.dtypes \n",
    "continous_columns = cleaned_df.select_dtypes(['datetime64[ns]']).columns"
   ]
  },
  {
   "cell_type": "code",
   "execution_count": null,
   "id": "liked-salad",
   "metadata": {},
   "outputs": [],
   "source": [
    "cleaned_df.dtypes"
   ]
  },
  {
   "cell_type": "code",
   "execution_count": null,
   "id": "responsible-native",
   "metadata": {},
   "outputs": [],
   "source": [
    "#check correlation between onset_dt and cdc_case_earliest_dt\n",
    "sns.scatterplot(x=cleaned_df['onset_dt'], y=cleaned_df['cdc_case_earliest_dt']);\n"
   ]
  },
  {
   "cell_type": "markdown",
   "id": "absent-bangladesh",
   "metadata": {},
   "source": [
    "Scatterplot findings: Very strong correlation between both features with a positive linear relationship. Almost all dates are the same in both features except for cases where onset_dt are later than cdc_case_earliest_dt."
   ]
  },
  {
   "cell_type": "markdown",
   "id": "applicable-better",
   "metadata": {},
   "source": [
    "## Continuous and Categorical Feature Investigation"
   ]
  },
  {
   "cell_type": "code",
   "execution_count": null,
   "id": "biblical-court",
   "metadata": {},
   "outputs": [],
   "source": [
    "date_df = cleaned_df.groupby([\"cdc_case_earliest_dt\", \"hosp_yn\"])[\"hosp_yn\"].count().unstack(\"hosp_yn\").fillna(0)\n",
    "date_df\n",
    "\n",
    "date_df.plot(kind=\"barh\", figsize=(10, 80), stacked=True)"
   ]
  },
  {
   "cell_type": "markdown",
   "id": "angry-friend",
   "metadata": {},
   "source": [
    "## Findings of stacked barchart of cdc_earliest_case_dt versus hosp_yn: \n",
    "The majority of cases over time did not need to go to hospital (colour - yellow). There is an interesting pattern in the data where unknown data seems to increase in December 2020 and January 2021. The unknown data may be due to the large increase in cases, medical staff may have been too busy to fill out forms or perhaps there was a data integration change at this time."
   ]
  },
  {
   "cell_type": "code",
   "execution_count": null,
   "id": "chronic-dallas",
   "metadata": {},
   "outputs": [],
   "source": [
    "gender_deaths = cleaned_df.loc[cleaned_df[\"death_yn\"] == 'Yes', \"sex\"]\n",
    "gender_non_deaths = cleaned_df.loc[cleaned_df[\"death_yn\"] == 'No', \"sex\"]"
   ]
  },
  {
   "cell_type": "code",
   "execution_count": null,
   "id": "sudden-ultimate",
   "metadata": {},
   "outputs": [],
   "source": [
    "all_gender_deaths = gender_deaths.value_counts()\n",
    "all_gender_deaths"
   ]
  },
  {
   "cell_type": "code",
   "execution_count": null,
   "id": "hungry-ontario",
   "metadata": {},
   "outputs": [],
   "source": [
    "date_df = cleaned_df.groupby([\"cdc_case_earliest_dt\", \"death_yn\"])[\"death_yn\"].count().unstack(\"death_yn\").fillna(0)\n",
    "date_df\n",
    "\n",
    "date_df.plot(kind=\"barh\", figsize=(10, 80), stacked=True)"
   ]
  },
  {
   "cell_type": "markdown",
   "id": "leading-transport",
   "metadata": {},
   "source": [
    "## Findings of stacked barchart of cdc_earliest_case_dt versus death_yn: \n",
    "The majority of cases did not die due to COVID, there is a consistency in the data where over time a similar percentage of people die per day due to COVID, with no dramatic increases to be seen in any particular month."
   ]
  },
  {
   "cell_type": "code",
   "execution_count": null,
   "id": "expected-garden",
   "metadata": {},
   "outputs": [],
   "source": [
    "date_df = cleaned_df.groupby([\"cdc_case_earliest_dt\", \"age_group\"])[\"age_group\"].count().unstack(\"age_group\").fillna(0)\n",
    "date_df\n",
    "\n",
    "date_df.plot(kind=\"barh\", figsize=(10, 80), stacked=True)"
   ]
  },
  {
   "cell_type": "markdown",
   "id": "forty-substitute",
   "metadata": {},
   "source": [
    "## Findings of stacked barchart of cdc_earliest_case_dt versus age_group: \n",
    "There is a pattern observed where cases increase in November 2020 - January 2021 and the the age groups with the most cases in this date range are the 20 - 29 year olds and 30 - 39 year olds. This may be due to people in this age bracket meeting up with each other over the festive period."
   ]
  },
  {
   "cell_type": "markdown",
   "id": "superb-springer",
   "metadata": {},
   "source": [
    "# Categorical and Categorical Feature Investigation"
   ]
  },
  {
   "cell_type": "markdown",
   "id": "promising-sitting",
   "metadata": {},
   "source": [
    "## Categorical and Target Feature (death_yn) Relationships"
   ]
  },
  {
   "cell_type": "code",
   "execution_count": null,
   "id": "promising-literature",
   "metadata": {},
   "outputs": [],
   "source": [
    "race_df = cleaned_df.groupby([\"sex\", \"death_yn\"])[\"death_yn\"].count().unstack(\"death_yn\").fillna(0)\n",
    "race_df.plot(kind=\"bar\", figsize=(10, 7), stacked=True)\n",
    "plt.title(\"Death wrt Sex\")"
   ]
  },
  {
   "cell_type": "markdown",
   "id": "surprised-lightweight",
   "metadata": {},
   "source": [
    "### Findings: There are considerably more survivals than deaths in both males and females, roughly 96%. Not a strong correlation between gender and death."
   ]
  },
  {
   "cell_type": "code",
   "execution_count": null,
   "id": "built-intervention",
   "metadata": {},
   "outputs": [],
   "source": [
    "all_gender_non_deaths = gender_non_deaths.value_counts()\n",
    "all_gender_non_deaths"
   ]
  },
  {
   "cell_type": "code",
   "execution_count": null,
   "id": "laughing-genome",
   "metadata": {},
   "outputs": [],
   "source": [
    "race_df = cleaned_df.groupby([\"icu_yn\", \"death_yn\"])[\"death_yn\"].count().unstack(\"death_yn\").fillna(0)\n",
    "race_df.plot(kind=\"bar\", figsize=(10, 7), stacked=True)\n",
    "plt.title(\"Death wrt ICU Admittance\")"
   ]
  },
  {
   "cell_type": "markdown",
   "id": "certain-daniel",
   "metadata": {},
   "source": [
    "### Findings: There is a considerable amount of missing icu data in correlation with non deaths (~80%). Additionally, in the small number of people admitted to ICU, 58% died, this proves this feature may be a high value feature suggesting a strong relationship between those admitted to ICU and deaths and justifies not dropping the column in part 1. Of all the deaths, people who were admitted to ICU account for 14% of total deaths. It would be worth trying to regain or track down missing ICU data to increase the dataset for more precise analysis. In addition, the majority of cases who did not go to ICU did not die from COVID."
   ]
  },
  {
   "cell_type": "code",
   "execution_count": null,
   "id": "spiritual-amplifier",
   "metadata": {},
   "outputs": [],
   "source": [
    "race_df = cleaned_df.groupby([\"hosp_yn\", \"death_yn\"])[\"death_yn\"].count().unstack(\"death_yn\").fillna(0)\n",
    "race_df.plot(kind=\"bar\", figsize=(10, 7), stacked=True)\n",
    "plt.title(\"Death wrt Hospital Admittance\")"
   ]
  },
  {
   "cell_type": "markdown",
   "id": "embedded-consciousness",
   "metadata": {},
   "source": [
    "### Findings: There is a strong correlation between non deaths and cases that were non hospitalised.  Additionally, this graph shows that of the total number of COVID deaths (341), 205 of those deaths were people who were hospitalised, which is ~60%, proving this feature is a high value feature in relation to the target feature which is death and justifies keeping this data in the dataset."
   ]
  },
  {
   "cell_type": "code",
   "execution_count": null,
   "id": "boxed-disease",
   "metadata": {},
   "outputs": [],
   "source": [
    "hosp_deaths = cleaned_df.loc[cleaned_df[\"death_yn\"] == 'Yes', \"hosp_yn\"]\n",
    "non_hosp_deaths = cleaned_df.loc[cleaned_df[\"death_yn\"] == 'No', \"hosp_yn\"]\n",
    "hosp_deaths.value_counts()"
   ]
  },
  {
   "cell_type": "code",
   "execution_count": null,
   "id": "brief-powell",
   "metadata": {},
   "outputs": [],
   "source": [
    "age_deaths = cleaned_df.loc[cleaned_df[\"death_yn\"] == 'Yes', \"age_group\"]\n",
    "age_non_deaths = cleaned_df.loc[cleaned_df[\"death_yn\"] == 'No', \"age_group\"]"
   ]
  },
  {
   "cell_type": "code",
   "execution_count": null,
   "id": "known-meeting",
   "metadata": {},
   "outputs": [],
   "source": [
    "race_df = cleaned_df.groupby([\"race_ethnicity_combined\", \"death_yn\"])[\"death_yn\"].count().unstack(\"death_yn\").fillna(0)\n",
    "race_df.plot(kind=\"bar\", figsize=(10, 7), stacked=True)\n",
    "plt.title(\"Death wrt Race and Ethnicity Combined\")"
   ]
  },
  {
   "cell_type": "markdown",
   "id": "fifteen-corps",
   "metadata": {},
   "source": [
    "### Findings: Many deaths were of white, non-hispanic ethnicity, 55% of all deaths were of white, non-hispanic ethnicity, this is proportional to the amount of cases of that ethnicity with respect to other ethnicity's. Unknown data may pertain to people of an ethnicity that did not feature on the form."
   ]
  },
  {
   "cell_type": "code",
   "execution_count": null,
   "id": "instant-pilot",
   "metadata": {},
   "outputs": [],
   "source": [
    "race_deaths = cleaned_df.loc[cleaned_df[\"death_yn\"] == 'Yes', \"race_ethnicity_combined\"]\n",
    "race_non_deaths = cleaned_df.loc[cleaned_df[\"death_yn\"] == 'No', \"race_ethnicity_combined\"]\n",
    "race_deaths.value_counts()"
   ]
  },
  {
   "cell_type": "code",
   "execution_count": null,
   "id": "coral-specific",
   "metadata": {},
   "outputs": [],
   "source": [
    "race_df = cleaned_df.groupby([\"medcond_yn\", \"death_yn\"])[\"death_yn\"].count().unstack(\"death_yn\").fillna(0)\n",
    "race_df.plot(kind=\"bar\", figsize=(10, 7), stacked=True)\n",
    "plt.title(\"Death wrt Having Medical Conditions\")"
   ]
  },
  {
   "cell_type": "markdown",
   "id": "excellent-allergy",
   "metadata": {},
   "source": [
    "### Findings: A large number of missing data is observed, 188 deaths have missing medical condition data, this may be as a result of the fact that the topic may be a sensitive topic for people. 28% of all people who died from COVID had a medical condition, proving that this feature has a strong correlation with the target feature, death and this justifies keeping this column in the dataset and not dropping the feature."
   ]
  },
  {
   "cell_type": "code",
   "execution_count": null,
   "id": "pregnant-incidence",
   "metadata": {},
   "outputs": [],
   "source": [
    "medcond_deaths = cleaned_df.loc[cleaned_df[\"death_yn\"] == 'Yes', \"medcond_yn\"]\n",
    "medcond_non_deaths = cleaned_df.loc[cleaned_df[\"death_yn\"] == 'No', \"medcond_yn\"]\n",
    "medcond_deaths.value_counts()"
   ]
  },
  {
   "cell_type": "code",
   "execution_count": null,
   "id": "advisory-confidentiality",
   "metadata": {},
   "outputs": [],
   "source": [
    "medcond_deaths.value_counts()"
   ]
  },
  {
   "cell_type": "code",
   "execution_count": null,
   "id": "primary-toilet",
   "metadata": {},
   "outputs": [],
   "source": [
    "lab_deaths = cleaned_df.loc[cleaned_df[\"death_yn\"] == 'Yes', \"current_status\"]\n",
    "lab_non_deaths = cleaned_df.loc[cleaned_df[\"death_yn\"] == 'No', \"current_status\"]\n",
    "lab_deaths.value_counts()"
   ]
  },
  {
   "cell_type": "code",
   "execution_count": null,
   "id": "parallel-ladder",
   "metadata": {},
   "outputs": [],
   "source": [
    "race_df = cleaned_df.groupby([\"current_status\", \"death_yn\"])[\"death_yn\"].count().unstack(\"death_yn\").fillna(0)\n",
    "race_df.plot(kind=\"bar\", figsize=(10, 7), stacked=True)\n",
    "plt.title(\"Death wrt Current Status\")"
   ]
  },
  {
   "cell_type": "markdown",
   "id": "extensive-probability",
   "metadata": {},
   "source": [
    "### Findings: This graph shows that most deaths were laboratory confirmed cases of COVID. 92% of all deaths were laboratory confirmed cases of COVID, 8% were probable cases."
   ]
  },
  {
   "cell_type": "code",
   "execution_count": null,
   "id": "secret-supply",
   "metadata": {},
   "outputs": [],
   "source": [
    "race_df = cleaned_df.groupby([\"age_group\", \"death_yn\"])[\"death_yn\"].count().unstack(\"death_yn\").fillna(0)\n",
    "race_df.plot(kind=\"bar\", figsize=(10, 7), stacked=True)\n",
    "plt.title(\"Death wrt Age\")"
   ]
  },
  {
   "cell_type": "markdown",
   "id": "duplicate-infrastructure",
   "metadata": {},
   "source": [
    "### Findings: Strong correlation between the older age groups and death. 80+ year olds acccounted for 50% of total deaths and 60 - 69 year olds and 70 - 79 year olds accounted for a combined 40% of total deaths. No deaths were observed from the age range of 0-29 years."
   ]
  },
  {
   "cell_type": "code",
   "execution_count": null,
   "id": "placed-vinyl",
   "metadata": {},
   "outputs": [],
   "source": [
    "medcond_deaths = cleaned_df.loc[cleaned_df[\"death_yn\"] == 'Yes', \"age_group\"]\n",
    "medcond_deaths.value_counts()"
   ]
  },
  {
   "cell_type": "code",
   "execution_count": null,
   "id": "extra-budget",
   "metadata": {},
   "outputs": [],
   "source": [
    "race_df = cleaned_df.groupby([\"race_ethnicity_combined\", \"hosp_yn\"])[\"hosp_yn\"].count().unstack(\"hosp_yn\").fillna(0)\n",
    "race_df.plot(kind=\"bar\", figsize=(10, 7), stacked=True)\n",
    "plt.title(\"Hospitalised wrt Race and Ethnicity\")"
   ]
  },
  {
   "cell_type": "markdown",
   "id": "cordless-nation",
   "metadata": {},
   "source": [
    "### Findings: This graph shows most COVID cases were not hospitalised. Due to the amount of cases from the white, non-hispanic ethnic group, this group had the most hospitalisations and native hawaiian/other pacific islander, non-hispanic had the least number hospitalisations."
   ]
  },
  {
   "cell_type": "code",
   "execution_count": null,
   "id": "inside-glossary",
   "metadata": {},
   "outputs": [],
   "source": [
    "race_df = cleaned_df.groupby([\"age_group\", \"hosp_yn\"])[\"hosp_yn\"].count().unstack(\"hosp_yn\").fillna(0)\n",
    "race_df.plot(kind=\"bar\", figsize=(10, 7), stacked=True)\n",
    "plt.title(\"Hospitalised wrt Age Group\")"
   ]
  },
  {
   "cell_type": "markdown",
   "id": "proud-marsh",
   "metadata": {},
   "source": [
    "### Findings: This graph shows most hospitalisations were in 80+ year old age bracket. There is a proportional spread of non-hospitalisations and hospitalisations with respect to case numbers in each age group. Interestingly, the younger age groups such as 0 - 19 years had the lowest number of hospitalisations."
   ]
  },
  {
   "cell_type": "code",
   "execution_count": null,
   "id": "finite-horizontal",
   "metadata": {},
   "outputs": [],
   "source": [
    "race_df = cleaned_df.groupby([\"age_group\", \"icu_yn\"])[\"icu_yn\"].count().unstack(\"icu_yn\").fillna(0)\n",
    "race_df.plot(kind=\"bar\", figsize=(10, 7), stacked=True)\n",
    "plt.title(\"ICU Admittance wrt Age Group\")"
   ]
  },
  {
   "cell_type": "markdown",
   "id": "civic-involvement",
   "metadata": {},
   "source": [
    "### Findings: This graph shows most ICU admittances being in the 50 - 59 and 60 - 69 year old age brackets. Interestingly, the younger age groups such as 0 - 19 years had the lowest number of ICU admittances. \n"
   ]
  },
  {
   "cell_type": "code",
   "execution_count": null,
   "id": "disturbed-moore",
   "metadata": {},
   "outputs": [],
   "source": [
    "race_df = cleaned_df.groupby([\"hosp_yn\", \"icu_yn\"])[\"icu_yn\"].count().unstack(\"icu_yn\").fillna(0)\n",
    "race_df.plot(kind=\"bar\", figsize=(10, 7), stacked=True)\n",
    "plt.title(\"ICU Admittance wrt Hospitalisations\")"
   ]
  },
  {
   "cell_type": "markdown",
   "id": "respective-communist",
   "metadata": {},
   "source": [
    "### Findings: This graph shows there is a correlation between those who were hospitalised and those who were admitted to ICU. All non hospitalisations did not go to ICU, whereas all ICU cases were admitted to hospital. There is also a strong correlation between missing hospital data and missing ICU data and non hospitalisations and missing ICU data, possibly alluding to the reason for missing data, those who did not go to hospital may not have filled any information in about ICU. This may prove that the data is missing at random data as it is a result of the hospitalisation feature. \n"
   ]
  },
  {
   "cell_type": "code",
   "execution_count": null,
   "id": "statistical-visibility",
   "metadata": {},
   "outputs": [],
   "source": [
    "race_df = cleaned_df.groupby([\"medcond_yn\", \"icu_yn\"])[\"icu_yn\"].count().unstack(\"icu_yn\").fillna(0)\n",
    "race_df.plot(kind=\"bar\", figsize=(10, 7), stacked=True)\n",
    "plt.title(\"ICU Admittance wrt Having Medical Conditions\")"
   ]
  },
  {
   "cell_type": "markdown",
   "id": "specific-uganda",
   "metadata": {},
   "source": [
    "### Findings: This graph shows there is a correlation between those who had a medical condition and those who were admitted to ICU. Of the 83 people in ICU, 41 of those people had a medical condition, ~ 50%, proving the strong relationship between these two features.\n"
   ]
  },
  {
   "cell_type": "code",
   "execution_count": null,
   "id": "legislative-vitamin",
   "metadata": {},
   "outputs": [],
   "source": [
    "race_df = cleaned_df.groupby([\"medcond_yn\", \"age_group\"])[\"age_group\"].count().unstack(\"age_group\").fillna(0)\n",
    "race_df.plot(kind=\"bar\", figsize=(10, 7), stacked=True)\n",
    "plt.title(\"ICU Admittance wrt Age Group\")"
   ]
  },
  {
   "cell_type": "markdown",
   "id": "structured-customs",
   "metadata": {},
   "source": [
    "### Findings: This graph shows there is a correlation between older ages having medical conditions with age groups 50 - 59, 60 - 69 and 70 - 80+ accounting for 56% of all cases with medical conditions. 0-9 and 10 -19 age groups account for just 9% of all cases who have medical conditions."
   ]
  },
  {
   "cell_type": "markdown",
   "id": "cubic-statement",
   "metadata": {},
   "source": [
    "# Overall Summary in Feature Relationships\n",
    "\n",
    "### Target Feature Death\n",
    "* Strong correlations between death and hospitalisations, ICU admittance, age and Having medical conditions. These are all indicative of the target outcome.\n",
    "* Weak correlations between death and gender and race and ethnicity combined.\n",
    "\n",
    "### Category and Category Feature Relationships\n",
    "* Strong correlations between medical conditions and hospitalisation, medical conditions and ICU admittance, hospitalisations and ICU admittance, age and ICU and age and hospitalisations.\n",
    "* Weak correlations between hospitalisation and race and ethnicity combined.\n",
    "\n",
    "### Continuous and Contiuous Feature Relationship\n",
    "* Strong correlation between onset_dt and cdc_earliest_case_dt.\n",
    "\n",
    "### Continuous and Category Feature Relationship\n",
    "* Weak correlation between cdc_earliest_case_dt and death and cdc_earliest_case_dt and age groups.\n"
   ]
  },
  {
   "cell_type": "markdown",
   "id": "structured-banks",
   "metadata": {},
   "source": [
    "# Part 4: Add Extra Features\n",
    "\n",
    "This section will discuss extra features to add to the dataset to better capture the target outcome."
   ]
  },
  {
   "cell_type": "markdown",
   "id": "humanitarian-destination",
   "metadata": {},
   "source": [
    "## Features Added:\n",
    "\n",
    "One of the main issues with the provided dataset is the high % missing values. These % missing values presented a big challenge for me at the start of this report, do I drop the features or go with my gut instinct and decide to keep them due to their value. The features in question are icu_yn, hosp_yn and medcond_yn. In my opinion these three features contained high value information that I did not want to lose, so I decided to keep them in the dataset. However, due to the missing values, the dataset may be difficult to use in a prediction model. To overcome this problem I decided to add one-hot encoding in these three features as a way for a machine learning model to interpret the binary digits and perhaps determine patterns in the features that may result in a more precise prediction so that the data could still be used. \n",
    "\n",
    "I also decided to split race and ethnicity combined to determine if there were any more specific relationships with the target outcome."
   ]
  },
  {
   "cell_type": "code",
   "execution_count": null,
   "id": "broadband-blanket",
   "metadata": {},
   "outputs": [],
   "source": [
    "#Feature 1\n",
    "icu_dummies = pd.get_dummies(cleaned_df.icu_yn)"
   ]
  },
  {
   "cell_type": "code",
   "execution_count": null,
   "id": "married-excess",
   "metadata": {},
   "outputs": [],
   "source": [
    "#Feature 2\n",
    "medcond_dummies = pd.get_dummies(cleaned_df.medcond_yn)"
   ]
  },
  {
   "cell_type": "code",
   "execution_count": null,
   "id": "eligible-turtle",
   "metadata": {},
   "outputs": [],
   "source": [
    "#Feature 3\n",
    "hosp_dummies = pd.get_dummies(cleaned_df.hosp_yn)"
   ]
  },
  {
   "cell_type": "code",
   "execution_count": null,
   "id": "available-costume",
   "metadata": {},
   "outputs": [],
   "source": [
    "#Featre 4\n",
    "cleaned_df[['Race','Ethnicity']] = cleaned_df.race_ethnicity_combined.str.split(\",\",expand=True,)"
   ]
  },
  {
   "cell_type": "code",
   "execution_count": null,
   "id": "hourly-contact",
   "metadata": {},
   "outputs": [],
   "source": [
    "# concatenate the new data into one dataframe\n",
    "cleaned_df = pd.concat([cleaned_df, hosp_dummies, icu_dummies, medcond_dummies], axis = 1)"
   ]
  },
  {
   "cell_type": "code",
   "execution_count": null,
   "id": "pressed-welsh",
   "metadata": {},
   "outputs": [],
   "source": [
    "cleaned_df "
   ]
  },
  {
   "cell_type": "code",
   "execution_count": null,
   "id": "subjective-cleaner",
   "metadata": {},
   "outputs": [],
   "source": [
    "cleaned_df.dtypes"
   ]
  },
  {
   "cell_type": "code",
   "execution_count": null,
   "id": "guilty-ethernet",
   "metadata": {},
   "outputs": [],
   "source": [
    "#change data types\n",
    "object_columns = cleaned_df.select_dtypes(['object']).columns\n",
    "object_columns\n",
    "\n",
    "for column in object_columns:\n",
    "    cleaned_df[column] = cleaned_df[column].astype('category')\n",
    "cleaned_df.dtypes "
   ]
  },
  {
   "cell_type": "code",
   "execution_count": null,
   "id": "heard-exercise",
   "metadata": {},
   "outputs": [],
   "source": [
    "#change data types\n",
    "category_columns = cleaned_df.select_dtypes(['category']).columns"
   ]
  },
  {
   "cell_type": "code",
   "execution_count": null,
   "id": "random-reggae",
   "metadata": {},
   "outputs": [],
   "source": [
    "#change data types\n",
    "binary_columns = cleaned_df.select_dtypes(['uint8']).columns"
   ]
  },
  {
   "cell_type": "code",
   "execution_count": null,
   "id": "bacterial-ribbon",
   "metadata": {},
   "outputs": [],
   "source": [
    "#change data types\n",
    "continous_columns = cleaned_df.select_dtypes(['datetime64[ns]']).columns"
   ]
  },
  {
   "cell_type": "code",
   "execution_count": null,
   "id": "blind-cathedral",
   "metadata": {},
   "outputs": [],
   "source": [
    "#look at df\n",
    "cleaned_df[category_columns].describe().T"
   ]
  },
  {
   "cell_type": "code",
   "execution_count": null,
   "id": "natural-worse",
   "metadata": {},
   "outputs": [],
   "source": [
    "cleaned_df[continous_columns].describe(datetime_is_numeric=True).T"
   ]
  },
  {
   "cell_type": "code",
   "execution_count": null,
   "id": "reported-myrtle",
   "metadata": {},
   "outputs": [],
   "source": [
    "cleaned_df[binary_columns].describe().T"
   ]
  },
  {
   "cell_type": "code",
   "execution_count": null,
   "id": "developed-parliament",
   "metadata": {},
   "outputs": [],
   "source": [
    "#drop old race_ethnicity column\n",
    "cleaned_df = cleaned_df.drop(columns = \"race_ethnicity_combined\", axis = 1)\n"
   ]
  },
  {
   "cell_type": "code",
   "execution_count": null,
   "id": "prescribed-breeding",
   "metadata": {},
   "outputs": [],
   "source": [
    "#put final cleaned df into csv\n",
    "cleaned_df.to_csv(\"covid19-cdc-13336431-cleaned_data_Final.csv\",index = False)"
   ]
  },
  {
   "cell_type": "code",
   "execution_count": null,
   "id": "posted-publisher",
   "metadata": {},
   "outputs": [],
   "source": []
  }
 ],
 "metadata": {
  "kernelspec": {
   "display_name": "Python 3",
   "language": "python",
   "name": "python3"
  },
  "language_info": {
   "codemirror_mode": {
    "name": "ipython",
    "version": 3
   },
   "file_extension": ".py",
   "mimetype": "text/x-python",
   "name": "python",
   "nbconvert_exporter": "python",
   "pygments_lexer": "ipython3",
   "version": "3.8.5"
  }
 },
 "nbformat": 4,
 "nbformat_minor": 5
}
